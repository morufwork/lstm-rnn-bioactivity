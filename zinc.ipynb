{
 "cells": [
  {
   "cell_type": "code",
   "execution_count": null,
   "id": "ca7abee4",
   "metadata": {},
   "outputs": [],
   "source": [
    "pip install datasets"
   ]
  },
  {
   "cell_type": "code",
   "execution_count": null,
   "id": "d6b28bc0",
   "metadata": {},
   "outputs": [],
   "source": [
    "from datasets import load_dataset\n",
    "\n",
    "# Load the ZINC-20 dataset\n",
    "dataset = load_dataset(\"zpn/zinc20\", split='train')\n",
    "\n",
    "# Extract SMILES strings\n",
    "smiles_list = dataset['smiles']\n",
    "\n",
    "# Select the first 1000 SMILES strings\n",
    "random_smiles = smiles_list[:1000]\n",
    "\n",
    "# Save to a CSV file\n",
    "import pandas as pd\n",
    "df = pd.DataFrame(random_smiles, columns=[\"SMILES\"])\n",
    "df.to_csv(\"random_smiles.csv\", index=False)\n"
   ]
  }
 ],
 "metadata": {
  "kernelspec": {
   "display_name": "Python 3 (ipykernel)",
   "language": "python",
   "name": "python3"
  },
  "language_info": {
   "codemirror_mode": {
    "name": "ipython",
    "version": 3
   },
   "file_extension": ".py",
   "mimetype": "text/x-python",
   "name": "python",
   "nbconvert_exporter": "python",
   "pygments_lexer": "ipython3",
   "version": "3.11.5"
  }
 },
 "nbformat": 4,
 "nbformat_minor": 5
}
