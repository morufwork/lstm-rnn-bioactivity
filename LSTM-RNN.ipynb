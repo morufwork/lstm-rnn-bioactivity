{
 "cells": [
  {
   "cell_type": "code",
   "execution_count": 1,
   "id": "1306ac41",
   "metadata": {},
   "outputs": [],
   "source": [
    "import seaborn as sns\n",
    "import matplotlib.pyplot as plt\n",
    "import pandas as pd"
   ]
  },
  {
   "cell_type": "code",
   "execution_count": 2,
   "id": "d089cf8d",
   "metadata": {},
   "outputs": [],
   "source": [
    "# Read the csv from file to variable df\n",
    "\n",
    "#df = pd.read_csv('finalData.csv')\n",
    "df = pd.read_csv('finalData.csv')"
   ]
  },
  {
   "cell_type": "code",
   "execution_count": 3,
   "id": "9dd0b878",
   "metadata": {
    "scrolled": true
   },
   "outputs": [
    {
     "data": {
      "text/plain": [
       "Text(0, 0.5, 'Frequency')"
      ]
     },
     "execution_count": 3,
     "metadata": {},
     "output_type": "execute_result"
    },
    {
     "data": {
      "image/png": "[encoded data removed]",
      "text/plain": [
       "<Figure size 550x550 with 1 Axes>"
      ]
     },
     "metadata": {},
     "output_type": "display_data"
    }
   ],
   "source": [
    "sns.set(style='ticks')\n",
    "plt.figure(figsize=(5.5, 5.5))\n",
    "\n",
    "sns.countplot(x='class', data=df, edgecolor='black')\n",
    "\n",
    "plt.xlabel('Bioactivity class', fontsize=14, fontweight='bold')\n",
    "plt.ylabel('Frequency', fontsize=14, fontweight='bold')"
   ]
  },
  {
   "cell_type": "code",
   "execution_count": 4,
   "id": "160a4f65",
   "metadata": {},
   "outputs": [],
   "source": [
    "X = df['canonical_smiles']\n",
    "y = df['class']"
   ]
  },
  {
   "cell_type": "code",
   "execution_count": 5,
   "id": "bcdc2df1",
   "metadata": {},
   "outputs": [
    {
     "name": "stdout",
     "output_type": "stream",
     "text": [
      "WARNING:tensorflow:From C:\\Users\\DELL\\anaconda3\\Lib\\site-packages\\keras\\src\\losses.py:2976: The name tf.losses.sparse_softmax_cross_entropy is deprecated. Please use tf.compat.v1.losses.sparse_softmax_cross_entropy instead.\n",
      "\n"
     ]
    }
   ],
   "source": [
    "from tensorflow.keras.models import Sequential\n",
    "from tensorflow.keras.layers import Embedding, LSTM, Dense\n",
    "from tensorflow.keras.preprocessing.text import Tokenizer\n",
    "from sklearn.model_selection import train_test_split"
   ]
  },
  {
   "cell_type": "code",
   "execution_count": 6,
   "id": "f76e0288",
   "metadata": {},
   "outputs": [],
   "source": [
    "# Tokenize the SMILES strings\n",
    "tokenizer = Tokenizer(char_level=True, lower=False)\n",
    "tokenizer.fit_on_texts(X)\n",
    "X_encoded = tokenizer.texts_to_sequences(X)"
   ]
  },
  {
   "cell_type": "code",
   "execution_count": 7,
   "id": "9ad7a108",
   "metadata": {},
   "outputs": [],
   "source": [
    "# After fitting tokenizer during training\n",
    "import pickle\n",
    "with open('tokenizer2.pkl', 'wb') as f:\n",
    "    pickle.dump(tokenizer, f)\n"
   ]
  },
  {
   "cell_type": "code",
   "execution_count": 8,
   "id": "25281086",
   "metadata": {},
   "outputs": [],
   "source": [
    "from tensorflow.keras.preprocessing.sequence import pad_sequences\n",
    "# Pad sequences to have the same length\n",
    "#X_padded = pad_sequences(X_encoded)\n",
    "X_padded = pad_sequences(X_encoded)"
   ]
  },
  {
   "cell_type": "code",
   "execution_count": 9,
   "id": "c05731d6",
   "metadata": {},
   "outputs": [
    {
     "name": "stdout",
     "output_type": "stream",
     "text": [
      "(4620, 181)\n"
     ]
    }
   ],
   "source": [
    "print(X_padded.shape)"
   ]
  },
  {
   "cell_type": "code",
   "execution_count": 10,
   "id": "58b70ee7",
   "metadata": {},
   "outputs": [],
   "source": [
    "# Data Splitting\n",
    "X_train, X_test, y_train, y_test = train_test_split(X_padded, y, test_size=0.2, random_state=42)"
   ]
  },
  {
   "cell_type": "code",
   "execution_count": 11,
   "id": "c41be46e",
   "metadata": {},
   "outputs": [],
   "source": [
    "#vocab_size = len(token_to_index) + 1 \n",
    "vocab_size = len(tokenizer.word_index) + 1"
   ]
  },
  {
   "cell_type": "code",
   "execution_count": 12,
   "id": "c4120bf5",
   "metadata": {},
   "outputs": [
    {
     "name": "stdout",
     "output_type": "stream",
     "text": [
      "WARNING:tensorflow:From C:\\Users\\DELL\\anaconda3\\Lib\\site-packages\\keras\\src\\backend.py:873: The name tf.get_default_graph is deprecated. Please use tf.compat.v1.get_default_graph instead.\n",
      "\n"
     ]
    }
   ],
   "source": [
    "from tensorflow.keras.layers import Dropout, ActivityRegularization\n",
    "from tensorflow.keras.layers import BatchNormalization\n",
    "from tensorflow.keras.layers import Embedding, LSTM, Dense\n",
    "from tensorflow.keras.models import Sequential\n",
    "from tensorflow.keras.regularizers import l2\n",
    "\n",
    "# Model Architecture\n",
    "model = Sequential()\n",
    "\n",
    "# Embedding layer\n",
    "model.add(Embedding(input_dim=vocab_size, output_dim=64, input_length=X_padded.shape[1]))\n",
    "model.add(BatchNormalization())\n",
    "\n",
    "\n",
    "model.add(LSTM(32))\n",
    "model.add(BatchNormalization())\n",
    "model.add(Dropout(0.2))  # Example dropout layer\n",
    "\n",
    "# Fully connected layer\n",
    "model.add(Dense(64, activation='relu', kernel_regularizer=l2(0.02)))  # Example L2 regularization\n",
    "model.add(Dropout(0.5))  # Additional dropout layer\n",
    "\n",
    "# Output layer\n",
    "model.add(Dense(1, activation='sigmoid'))"
   ]
  },
  {
   "cell_type": "code",
   "execution_count": 13,
   "id": "cbb191fb",
   "metadata": {},
   "outputs": [
    {
     "name": "stdout",
     "output_type": "stream",
     "text": [
      "Model: \"sequential\"\n",
      "_________________________________________________________________\n",
      " Layer (type)                Output Shape              Param #   \n",
      "=================================================================\n",
      " embedding (Embedding)       (None, 181, 64)           2496      \n",
      "                                                                 \n",
      " batch_normalization (Batch  (None, 181, 64)           256       \n",
      " Normalization)                                                  \n",
      "                                                                 \n",
      " lstm (LSTM)                 (None, 32)                12416     \n",
      "                                                                 \n",
      " batch_normalization_1 (Bat  (None, 32)                128       \n",
      " chNormalization)                                                \n",
      "                                                                 \n",
      " dropout (Dropout)           (None, 32)                0         \n",
      "                                                                 \n",
      " dense (Dense)               (None, 64)                2112      \n",
      "                                                                 \n",
      " dropout_1 (Dropout)         (None, 64)                0         \n",
      "                                                                 \n",
      " dense_1 (Dense)             (None, 1)                 65        \n",
      "                                                                 \n",
      "=================================================================\n",
      "Total params: 17473 (68.25 KB)\n",
      "Trainable params: 17281 (67.50 KB)\n",
      "Non-trainable params: 192 (768.00 Byte)\n",
      "_________________________________________________________________\n"
     ]
    }
   ],
   "source": [
    "# Print the model summary\n",
    "model.summary()\n"
   ]
  },
  {
   "cell_type": "code",
   "execution_count": 14,
   "id": "b9ddba56",
   "metadata": {},
   "outputs": [],
   "source": [
    "from tensorflow.keras.optimizers import Adam\n",
    "from tensorflow.keras.metrics import AUC\n",
    "\n",
    "\n",
    "# Model Compilation\n",
    "optimizer = Adam(learning_rate=0.0005, clipvalue=1.0)  # Adjust clipnorm as needed\n",
    "model.compile(loss='binary_crossentropy', optimizer=optimizer, metrics=['accuracy', AUC(name='auc')])"
   ]
  },
  {
   "cell_type": "code",
   "execution_count": null,
   "id": "e72d224e",
   "metadata": {},
   "outputs": [
    {
     "name": "stdout",
     "output_type": "stream",
     "text": [
      "WARNING:tensorflow:From C:\\Users\\DELL\\anaconda3\\Lib\\site-packages\\keras\\src\\utils\\tf_utils.py:492: The name tf.ragged.RaggedTensorValue is deprecated. Please use tf.compat.v1.ragged.RaggedTensorValue instead.\n",
      "\n",
      "WARNING:tensorflow:From C:\\Users\\DELL\\anaconda3\\Lib\\site-packages\\keras\\src\\engine\\base_layer_utils.py:384: The name tf.executing_eagerly_outside_functions is deprecated. Please use tf.compat.v1.executing_eagerly_outside_functions instead.\n",
      "\n",
      "116/116 [==============================] - 8s 46ms/step - loss: 1.4447 - accuracy: 0.5368 - auc: 0.5718 - val_loss: 1.2759 - val_accuracy: 0.5400 - val_auc: 0.5591 - lr: 5.0000e-04\n",
      "Epoch 1/30, Training Loss: 0.6862, Val Loss: 0.6892\n",
      "116/116 [==============================] - 5s 41ms/step - loss: 1.1693 - accuracy: 0.5979 - auc: 0.6198 - val_loss: 1.0963 - val_accuracy: 0.5444 - val_auc: 0.6214 - lr: 5.0000e-04\n",
      "Epoch 2/30, Training Loss: 0.6825, Val Loss: 0.6858\n",
      "116/116 [==============================] - 5s 41ms/step - loss: 0.9757 - accuracy: 0.6504 - auc: 0.6926 - val_loss: 0.9724 - val_accuracy: 0.5563 - val_auc: 0.6870 - lr: 5.0000e-04\n",
      "Epoch 3/30, Training Loss: 0.6843, Val Loss: 0.6807\n",
      "116/116 [==============================] - 5s 40ms/step - loss: 0.8497 - accuracy: 0.6707 - auc: 0.7303 - val_loss: 0.8229 - val_accuracy: 0.6623 - val_auc: 0.7563 - lr: 5.0000e-04\n",
      "Epoch 4/30, Training Loss: 0.5975, Val Loss: 0.6117\n",
      "116/116 [==============================] - 5s 41ms/step - loss: 0.7409 - accuracy: 0.7062 - auc: 0.7773 - val_loss: 0.7131 - val_accuracy: 0.7089 - val_auc: 0.7927 - lr: 5.0000e-04\n",
      "Epoch 5/30, Training Loss: 0.5433, Val Loss: 0.5574\n",
      "116/116 [==============================] - 5s 41ms/step - loss: 0.6746 - accuracy: 0.7313 - auc: 0.7971 - val_loss: 0.6826 - val_accuracy: 0.7175 - val_auc: 0.8284 - lr: 5.0000e-04\n",
      "Epoch 6/30, Training Loss: 0.5350, Val Loss: 0.5663\n",
      "116/116 [==============================] - 5s 40ms/step - loss: 0.6162 - accuracy: 0.7543 - auc: 0.8212 - val_loss: 0.6335 - val_accuracy: 0.7348 - val_auc: 0.8306 - lr: 5.0000e-04\n",
      "Epoch 7/30, Training Loss: 0.5138, Val Loss: 0.5454\n",
      "116/116 [==============================] - 5s 42ms/step - loss: 0.5881 - accuracy: 0.7495 - auc: 0.8248 - val_loss: 0.5446 - val_accuracy: 0.7868 - val_auc: 0.8569 - lr: 5.0000e-04\n",
      "Epoch 8/30, Training Loss: 0.4518, Val Loss: 0.4767\n",
      "116/116 [==============================] - 5s 41ms/step - loss: 0.5482 - accuracy: 0.7722 - auc: 0.8432 - val_loss: 0.5163 - val_accuracy: 0.7803 - val_auc: 0.8625 - lr: 5.0000e-04\n",
      "Epoch 9/30, Training Loss: 0.4364, Val Loss: 0.4628\n",
      "116/116 [==============================] - 5s 41ms/step - loss: 0.5113 - accuracy: 0.7884 - auc: 0.8604 - val_loss: 0.5206 - val_accuracy: 0.7792 - val_auc: 0.8586 - lr: 5.0000e-04\n",
      "Epoch 10/30, Training Loss: 0.4428, Val Loss: 0.4772\n",
      "116/116 [==============================] - 5s 41ms/step - loss: 0.5001 - accuracy: 0.7873 - auc: 0.8623 - val_loss: 0.4825 - val_accuracy: 0.7900 - val_auc: 0.8717 - lr: 5.0000e-04\n",
      "Epoch 11/30, Training Loss: 0.4150, Val Loss: 0.4470\n",
      "116/116 [==============================] - 5s 44ms/step - loss: 0.4731 - accuracy: 0.8109 - auc: 0.8769 - val_loss: 0.4608 - val_accuracy: 0.8052 - val_auc: 0.8831 - lr: 5.0000e-04\n",
      "Epoch 12/30, Training Loss: 0.3962, Val Loss: 0.4304\n",
      "116/116 [==============================] - 5s 42ms/step - loss: 0.4687 - accuracy: 0.8009 - auc: 0.8749 - val_loss: 0.5079 - val_accuracy: 0.7630 - val_auc: 0.8836 - lr: 5.0000e-04\n",
      "Epoch 13/30, Training Loss: 0.4413, Val Loss: 0.4830\n",
      "116/116 [==============================] - 5s 39ms/step - loss: 0.4428 - accuracy: 0.8098 - auc: 0.8873 - val_loss: 0.4342 - val_accuracy: 0.8171 - val_auc: 0.8921 - lr: 5.0000e-04\n",
      "Epoch 14/30, Training Loss: 0.3756, Val Loss: 0.4121\n",
      "116/116 [==============================] - 5s 39ms/step - loss: 0.4310 - accuracy: 0.8206 - auc: 0.8927 - val_loss: 0.4388 - val_accuracy: 0.8149 - val_auc: 0.8915 - lr: 5.0000e-04\n",
      "Epoch 15/30, Training Loss: 0.3958, Val Loss: 0.4193\n",
      "116/116 [==============================] - 5s 45ms/step - loss: 0.4178 - accuracy: 0.8274 - auc: 0.8990 - val_loss: 0.4185 - val_accuracy: 0.8225 - val_auc: 0.8996 - lr: 5.0000e-04\n",
      "Epoch 16/30, Training Loss: 0.3515, Val Loss: 0.4010\n",
      "116/116 [==============================] - 6s 49ms/step - loss: 0.4058 - accuracy: 0.8339 - auc: 0.9042 - val_loss: 0.4338 - val_accuracy: 0.8128 - val_auc: 0.8988 - lr: 5.0000e-04\n",
      "Epoch 17/30, Training Loss: 0.3662, Val Loss: 0.4179\n",
      "116/116 [==============================] - 5s 44ms/step - loss: 0.4014 - accuracy: 0.8401 - auc: 0.9053 - val_loss: 0.4481 - val_accuracy: 0.7998 - val_auc: 0.9006 - lr: 5.0000e-04\n",
      "Epoch 18/30, Training Loss: 0.3702, Val Loss: 0.4333\n",
      "116/116 [==============================] - 5s 41ms/step - loss: 0.4017 - accuracy: 0.8339 - auc: 0.9055 - val_loss: 0.4157 - val_accuracy: 0.8268 - val_auc: 0.8998 - lr: 5.0000e-04\n",
      "Epoch 19/30, Training Loss: 0.3314, Val Loss: 0.4012\n",
      "116/116 [==============================] - 5s 41ms/step - loss: 0.3884 - accuracy: 0.8477 - auc: 0.9108 - val_loss: 0.4094 - val_accuracy: 0.8312 - val_auc: 0.9032 - lr: 5.0000e-04\n",
      "Epoch 20/30, Training Loss: 0.3268, Val Loss: 0.3962\n",
      "116/116 [==============================] - 5s 40ms/step - loss: 0.3666 - accuracy: 0.8531 - auc: 0.9213 - val_loss: 0.4081 - val_accuracy: 0.8355 - val_auc: 0.9055 - lr: 5.0000e-04\n",
      "Epoch 21/30, Training Loss: 0.3216, Val Loss: 0.3945\n",
      "116/116 [==============================] - 5s 43ms/step - loss: 0.3604 - accuracy: 0.8542 - auc: 0.9235 - val_loss: 0.4238 - val_accuracy: 0.8247 - val_auc: 0.9042 - lr: 5.0000e-04\n",
      "Epoch 22/30, Training Loss: 0.3041, Val Loss: 0.4101\n",
      "116/116 [==============================] - 5s 40ms/step - loss: 0.3674 - accuracy: 0.8512 - auc: 0.9193 - val_loss: 0.4144 - val_accuracy: 0.8344 - val_auc: 0.9015 - lr: 5.0000e-04\n",
      "Epoch 23/30, Training Loss: 0.3138, Val Loss: 0.4018\n",
      "116/116 [==============================] - 5s 39ms/step - loss: 0.3551 - accuracy: 0.8644 - auc: 0.9241 - val_loss: 0.4356 - val_accuracy: 0.8095 - val_auc: 0.9026 - lr: 5.0000e-04\n",
      "Epoch 24/30, Training Loss: 0.3396, Val Loss: 0.4228\n",
      "116/116 [==============================] - 5s 40ms/step - loss: 0.3497 - accuracy: 0.8650 - auc: 0.9280 - val_loss: 0.3974 - val_accuracy: 0.8236 - val_auc: 0.9108 - lr: 5.0000e-04\n",
      "Epoch 25/30, Training Loss: 0.2833, Val Loss: 0.3859\n",
      "116/116 [==============================] - 5s 40ms/step - loss: 0.3356 - accuracy: 0.8647 - auc: 0.9341 - val_loss: 0.3979 - val_accuracy: 0.8355 - val_auc: 0.9118 - lr: 5.0000e-04\n",
      "Epoch 26/30, Training Loss: 0.2688, Val Loss: 0.3851\n",
      "116/116 [==============================] - 5s 41ms/step - loss: 0.3230 - accuracy: 0.8769 - auc: 0.9384 - val_loss: 0.3883 - val_accuracy: 0.8398 - val_auc: 0.9155 - lr: 5.0000e-04\n"
     ]
    }
   ],
   "source": [
    "from sklearn.metrics import log_loss, accuracy_score\n",
    "from tensorflow.keras.callbacks import EarlyStopping, ReduceLROnPlateau\n",
    "\n",
    "# Lists to store training and validation loss values\n",
    "train_losses = []\n",
    "val_losses = []\n",
    "\n",
    "train_accuracies = []\n",
    "val_accuracies = []\n",
    "\n",
    "# Define callbacks\n",
    "early_stopping = EarlyStopping(monitor='val_loss', patience=3, verbose=1, restore_best_weights=True)\n",
    "reduce_lr = ReduceLROnPlateau(\n",
    "    monitor='val_loss',\n",
    "    factor=0.5,\n",
    "    patience=2,\n",
    "    min_lr=1e-6,\n",
    "    verbose=1\n",
    ")\n",
    "\n",
    "# Training loop\n",
    "epochs = 30\n",
    "for epoch in range(epochs):\n",
    "    history = model.fit(X_train, y_train, validation_data=(X_test, y_test), epochs=1, batch_size=32, verbose=1, callbacks=[early_stopping, reduce_lr])\n",
    "\n",
    "    # Predict on training and test set\n",
    "    y_train_pred = model.predict(X_train, verbose=0)\n",
    "    y_test_pred = model.predict(X_test, verbose=0)\n",
    "\n",
    "    # Compute log loss\n",
    "    train_loss = log_loss(y_train, y_train_pred)\n",
    "    val_loss = log_loss(y_test, y_test_pred)\n",
    "\n",
    "    train_losses.append(train_loss)\n",
    "    val_losses.append(val_loss)\n",
    "    \n",
    "    \n",
    "    # Convert probabilities to class labels\n",
    "    y_train_classes = (y_train_pred > 0.5).astype(int)\n",
    "    y_test_classes = (y_test_pred > 0.5).astype(int)\n",
    "\n",
    "    # Compute accuracy\n",
    "    train_acc = accuracy_score(y_train, y_train_classes)\n",
    "    val_acc = accuracy_score(y_test, y_test_classes)\n",
    "    train_accuracies.append(train_acc)\n",
    "    val_accuracies.append(val_acc)\n",
    "    \n",
    "    \n",
    "    \n",
    "\n",
    "    print(f'Epoch {epoch + 1}/{epochs}, Training Loss: {train_loss:.4f}, Val Loss: {val_loss:.4f}')\n",
    "    "
   ]
  },
  {
   "cell_type": "code",
   "execution_count": null,
   "id": "a11f7c2b",
   "metadata": {},
   "outputs": [],
   "source": [
    "# Make predictions on the test set\n",
    "y_pred = model.predict(X_test)"
   ]
  },
  {
   "cell_type": "code",
   "execution_count": null,
   "id": "5cf9e662",
   "metadata": {},
   "outputs": [],
   "source": [
    "from sklearn.metrics import accuracy_score, classification_report, confusion_matrix\n",
    "\n",
    "# Use the predict method to get probabilities\n",
    "y_pred_prob = model.predict(X_test)\n",
    "\n",
    "# Threshold probabilities to get predicted classes (assuming binary classification)\n",
    "y_pred = (y_pred_prob > 0.5).astype(int)\n",
    "\n",
    "# Evaluate the model\n",
    "accuracy = accuracy_score(y_test, y_pred)\n",
    "print(f'Test Accuracy: {accuracy:.4f}')\n"
   ]
  },
  {
   "cell_type": "code",
   "execution_count": null,
   "id": "1de6da6e",
   "metadata": {},
   "outputs": [],
   "source": [
    "# Plot confusion matrix\n",
    "from sklearn.metrics import ConfusionMatrixDisplay\n",
    "\n",
    "cm = confusion_matrix(y_test, y_pred, labels=[0, 1])\n",
    "disp = ConfusionMatrixDisplay(confusion_matrix=cm, display_labels=['class_0', 'class_1'])\n",
    "disp.plot(cmap=plt.cm.Blues, values_format='.2f')\n",
    "\n",
    "# Add a title\n",
    "plt.title('Normalized Confusion Matrix')\n",
    "\n",
    "plt.show()"
   ]
  },
  {
   "cell_type": "code",
   "execution_count": null,
   "id": "1757ac78",
   "metadata": {},
   "outputs": [],
   "source": [
    "# Generate a classification report\n",
    "class_report = classification_report(y_test, y_pred)\n",
    "print(\"Classification Report:\\n\", class_report)"
   ]
  },
  {
   "cell_type": "code",
   "execution_count": null,
   "id": "7fac36fb",
   "metadata": {},
   "outputs": [],
   "source": [
    "from sklearn.metrics import roc_curve, auc\n",
    "import matplotlib.pyplot as plt\n",
    "\n",
    "# True binary labels\n",
    "y_true = y_test\n",
    "\n",
    "# Compute ROC curve and ROC area\n",
    "fpr, tpr, thresholds = roc_curve(y_true, y_pred_prob)\n",
    "roc_auc = auc(fpr, tpr)\n",
    "\n",
    "# Plot\n",
    "plt.figure()\n",
    "plt.plot(fpr, tpr, color='darkorange', lw=2,\n",
    "         label=f'ROC curve (AUC = {roc_auc:.2f})')\n",
    "plt.plot([0, 1], [0, 1], color='navy', lw=2, linestyle='--')  # Diagonal line\n",
    "plt.xlim([0.0, 1.0])\n",
    "plt.ylim([0.0, 1.05])\n",
    "plt.xlabel('False Positive Rate')\n",
    "plt.ylabel('True Positive Rate')\n",
    "plt.title('Receiver Operating Characteristic (ROC)')\n",
    "plt.legend(loc=\"lower right\")\n",
    "plt.grid(True)\n",
    "plt.show()\n"
   ]
  },
  {
   "cell_type": "code",
   "execution_count": null,
   "id": "685575e8",
   "metadata": {},
   "outputs": [],
   "source": [
    "# Plotting curves\n",
    "plt.figure(figsize=(12, 5))\n",
    "\n",
    "# Loss Curve\n",
    "plt.subplot(1, 2, 1)\n",
    "plt.plot(train_losses, label='Training Loss', marker='o')\n",
    "plt.plot(val_losses, label='Validation Loss', marker='o')\n",
    "plt.title('Loss Curve')\n",
    "plt.xlabel('Epoch')\n",
    "plt.ylabel('Log Loss')\n",
    "plt.legend()\n",
    "\n",
    "# Accuracy Curve\n",
    "plt.subplot(1, 2, 2)\n",
    "plt.plot(train_accuracies, label='Training Accuracy', marker='o')\n",
    "plt.plot(val_accuracies, label='Validation Accuracy', marker='o')\n",
    "plt.title('Accuracy Curve')\n",
    "plt.xlabel('Epoch')\n",
    "plt.ylabel('Accuracy')\n",
    "plt.legend()\n",
    "\n",
    "plt.tight_layout()\n",
    "plt.show()"
   ]
  },
  {
   "cell_type": "code",
   "execution_count": null,
   "id": "d966e505",
   "metadata": {},
   "outputs": [],
   "source": [
    "model.save('lstm_model.h3')\n",
    "model.save('saved_model/my_model3')"
   ]
  },
  {
   "cell_type": "code",
   "execution_count": null,
   "id": "a7df9927",
   "metadata": {},
   "outputs": [],
   "source": []
  }
 ],
 "metadata": {
  "kernelspec": {
   "display_name": "Python 3 (ipykernel)",
   "language": "python",
   "name": "python3"
  },
  "language_info": {
   "codemirror_mode": {
    "name": "ipython",
    "version": 3
   },
   "file_extension": ".py",
   "mimetype": "text/x-python",
   "name": "python",
   "nbconvert_exporter": "python",
   "pygments_lexer": "ipython3",
   "version": "3.11.5"
  }
 },
 "nbformat": 4,
 "nbformat_minor": 5
}
